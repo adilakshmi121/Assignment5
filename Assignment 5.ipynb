{
 "cells": [
  {
   "cell_type": "markdown",
   "id": "eb404358",
   "metadata": {},
   "source": [
    "# Square numbers and return their sum"
   ]
  },
  {
   "cell_type": "code",
   "execution_count": 6,
   "id": "f63dbcfb",
   "metadata": {},
   "outputs": [
    {
     "name": "stdout",
     "output_type": "stream",
     "text": [
      "35\n"
     ]
    }
   ],
   "source": [
    "class Point:\n",
    "    def __init__(self,x,y,z):\n",
    "        self.x=x\n",
    "        self.y=y\n",
    "        self.z=z\n",
    "    def sqSum(self):\n",
    "        return self.x**2+self.y**2+self.z**2\n",
    "p=Point(1,3,5)\n",
    "result = p.sqSum()\n",
    "print(result)\n"
   ]
  },
  {
   "cell_type": "markdown",
   "id": "e259b4ab",
   "metadata": {},
   "source": [
    "# Implement a calculator class"
   ]
  },
  {
   "cell_type": "code",
   "execution_count": 11,
   "id": "63204eb6",
   "metadata": {},
   "outputs": [
    {
     "name": "stdout",
     "output_type": "stream",
     "text": [
      "104\n",
      "84\n",
      "940\n",
      "9.4\n"
     ]
    }
   ],
   "source": [
    "class Calculator:\n",
    "    def __init__(self,a,b):\n",
    "        self.a=a\n",
    "        self.b=b\n",
    "    def add(self):\n",
    "        return self.a+self.b\n",
    "    def sub(self):\n",
    "        return self.a-self.b\n",
    "    def mul(self):\n",
    "        return self.a*self.b\n",
    "    def div(self):\n",
    "        return self.a/self.b\n",
    "c= Calculator(94,10)\n",
    "print(c.add())\n",
    "print(c.sub())\n",
    "print(c.mul())\n",
    "print(c.div())"
   ]
  },
  {
   "cell_type": "markdown",
   "id": "40c3a9c5",
   "metadata": {},
   "source": [
    "# Implement the complete student class"
   ]
  },
  {
   "cell_type": "code",
   "execution_count": 17,
   "id": "2e001f19",
   "metadata": {},
   "outputs": [
    {
     "name": "stdout",
     "output_type": "stream",
     "text": [
      "Name: lakshmi\n",
      "Rollnumber: 34\n"
     ]
    }
   ],
   "source": [
    "class Student:\n",
    "    def setName(self,Name):\n",
    "        self.__Name=Name\n",
    "    def getName(self):\n",
    "        return self.__Name\n",
    "    def setRollnumber(self,Rollnumber):\n",
    "        self.__Rollnumber=Rollnumber\n",
    "    def getRollnumber(self):\n",
    "        return self.__Rollnumber\n",
    "x=Student()\n",
    "x.setName(\"lakshmi\")\n",
    "x.setRollnumber(\"34\")\n",
    "print(\"Name:\",x.getName())\n",
    "print(\"Rollnumber:\",x.getRollnumber())"
   ]
  },
  {
   "cell_type": "markdown",
   "id": "8eef23f6",
   "metadata": {},
   "source": [
    "# Implement a banking account"
   ]
  },
  {
   "cell_type": "code",
   "execution_count": 31,
   "id": "d22c60be",
   "metadata": {},
   "outputs": [
    {
     "name": "stdout",
     "output_type": "stream",
     "text": [
      "Adi\n",
      "7000\n",
      "5\n"
     ]
    }
   ],
   "source": [
    "class Account:\n",
    "    def __init__(self,title=0,balance=0):\n",
    "        self.title=title\n",
    "        self.balance=balance\n",
    "class SavingsAccount(Account):\n",
    "    def __init__(self,interestrate=0):\n",
    "        self.interestrate=interestrate\n",
    "        \n",
    "x=Account(\"Adi\",7000)\n",
    "print(x.title)\n",
    "print(x.balance)\n",
    "y=SavingsAccount(5)\n",
    "print(y.interestrate)\n",
    "        "
   ]
  },
  {
   "cell_type": "markdown",
   "id": "585fd9da",
   "metadata": {},
   "source": [
    "# Handling a banking account"
   ]
  },
  {
   "cell_type": "code",
   "execution_count": 50,
   "id": "347e9e64",
   "metadata": {},
   "outputs": [
    {
     "name": "stdout",
     "output_type": "stream",
     "text": [
      "balance 5540\n",
      "Balance after deposit: 6540\n",
      "Balance after withdrawl: 6040\n",
      "interestamount: 181.2\n"
     ]
    }
   ],
   "source": [
    "class Account:\n",
    "    def __init__(self,title=None,balance=0):\n",
    "        self.title=title\n",
    "        self.balance=balance\n",
    "    def withdrawl(self,amount):\n",
    "        self.balance=self.balance-amount\n",
    "    def deposit(self,amount):\n",
    "        self.balance=self.balance+amount\n",
    "    def getbalance(self):\n",
    "        return self.balance    \n",
    "class SavingsAccount(Account):\n",
    "    def __init__(self,title=None,balance=0,interestrate=0):\n",
    "        super().__init__(title,balance)\n",
    "        self.interestrate=interestrate\n",
    "    def interestamount(self):\n",
    "        return(self.balance*self.interestrate)/100        \n",
    " \n",
    "x=SavingsAccount(\"lucky\",5540,3)\n",
    "print(\"balance\",x.getbalance())\n",
    "x.deposit(1000)\n",
    "print(\"Balance after deposit:\",x.getbalance())\n",
    "x.withdrawl(500)\n",
    "print(\"Balance after withdrawl:\",x.getbalance())\n",
    "print(\"interestamount:\",x.interestamount())"
   ]
  }
 ],
 "metadata": {
  "kernelspec": {
   "display_name": "Python 3 (ipykernel)",
   "language": "python",
   "name": "python3"
  },
  "language_info": {
   "codemirror_mode": {
    "name": "ipython",
    "version": 3
   },
   "file_extension": ".py",
   "mimetype": "text/x-python",
   "name": "python",
   "nbconvert_exporter": "python",
   "pygments_lexer": "ipython3",
   "version": "3.11.1"
  }
 },
 "nbformat": 4,
 "nbformat_minor": 5
}
